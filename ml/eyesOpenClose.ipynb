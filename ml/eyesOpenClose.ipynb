{
 "cells": [
  {
   "cell_type": "code",
   "execution_count": 1,
   "metadata": {
    "colab": {
     "base_uri": "https://localhost:8080/"
    },
    "id": "SkENTdxQqub4",
    "outputId": "5fc922c8-daa9-4d12-a988-4263cbf958bb"
   },
   "outputs": [
    {
     "data": {
      "text/plain": [
       "(100, 100, 3)"
      ]
     },
     "execution_count": 1,
     "metadata": {},
     "output_type": "execute_result"
    }
   ],
   "source": [
    "import numpy as np # linear algebra\n",
    "import pandas as pd # data processing, CSV file I/O (e.g. pd.read_csv)\n",
    "import os\n",
    "import cv2\n",
    "\n",
    "labels = os.listdir('openClosedFaces')\n",
    "path = os.path.join('openClosedFaces', 'OpenFace')\n",
    "image = cv2.imread(os.path.join(path, 'Abdel_Madi_Shabneh_0001.jpg'), cv2.IMREAD_COLOR)\n",
    "image.shape"
   ]
  },
  {
   "cell_type": "code",
   "execution_count": 8,
   "metadata": {
    "colab": {
     "base_uri": "https://localhost:8080/"
    },
    "id": "Ojzab6kGs-B3",
    "outputId": "db7013b0-8038-41af-c098-654d3b2c7f5d"
   },
   "outputs": [
    {
     "name": "stderr",
     "output_type": "stream",
     "text": [
      "100%|██████████| 1193/1193 [00:00<00:00, 2217.94it/s]\n",
      "100%|██████████| 1232/1232 [00:00<00:00, 2372.66it/s]\n"
     ]
    }
   ],
   "source": [
    "from tqdm import tqdm\n",
    "def get_yawn_data(direc=\"train\"):\n",
    "    yaw_no = []\n",
    "    IMG_SIZE = 145\n",
    "    categories = [\"yawn\", \"no_yawn\"]\n",
    "    for category in categories:\n",
    "        path_link = os.path.join(direc, category)\n",
    "        class_num1 = categories.index(category)\n",
    "        print(class_num1)\n",
    "        for image in tqdm(os.listdir(path_link)):\n",
    "            image_array = cv2.imread(os.path.join(path_link, image), cv2.IMREAD_COLOR)\n",
    "            face_cascade = cv2.CascadeClassifier(cv2.data.haarcascades + 'haarcascade_frontalface_default.xml')\n",
    "            faces = face_cascade.detectMultiScale(image_array, 1.3, 5)\n",
    "            for (x, y, w, h) in faces:\n",
    "                img = cv2.rectangle(image_array, (x, y), (x+w, y+h), (0, 255, 0), 2)\n",
    "                roi_color = img[y:y+h, x:x+w]\n",
    "                resized_array = cv2.resize(roi_color, (IMG_SIZE, IMG_SIZE))\n",
    "                yaw_no.append([resized_array, class_num1])\n",
    "    return yaw_no\n",
    "\n",
    "def get_eye_data(dir_path=\"train\"):\n",
    "    labels = ['Closed', 'Open']\n",
    "    IMG_SIZE = 145\n",
    "    data = []\n",
    "    for label in labels:\n",
    "        path = os.path.join(dir_path, label)\n",
    "        class_num = labels.index(label)\n",
    "        class_num +=2\n",
    "        print(class_num)\n",
    "        for img in tqdm(os.listdir(path)):\n",
    "            try:\n",
    "                img_array = cv2.imread(os.path.join(path, img), cv2.IMREAD_COLOR)\n",
    "                resized_array = cv2.resize(img_array, (IMG_SIZE, IMG_SIZE))\n",
    "                data.append([resized_array, class_num])\n",
    "            except Exception as e:\n",
    "                print(e)\n",
    "    return data\n",
    "\n",
    "def get_open_close_face_data(dir_path=\"openClosedFaces\"):\n",
    "    labels = ['ClosedFace', 'OpenFace']\n",
    "    data = []\n",
    "    for i,label in enumerate(labels):\n",
    "        path = os.path.join(dir_path, label)\n",
    "        for img in tqdm(os.listdir(path)):\n",
    "            try:\n",
    "                img_array = cv2.imread(os.path.join(path, img))# , cv2.IMREAD_COLOR)\n",
    "                if img_array is not None:\n",
    "                    data.append([img_array, i])\n",
    "            except Exception as e:\n",
    "                print(e)\n",
    "    return np.array(data)\n",
    "\n",
    "data = get_open_close_face_data()\n",
    "X,y = list(zip(*data))"
   ]
  },
  {
   "cell_type": "code",
   "execution_count": 9,
   "metadata": {
    "id": "bp6bB7R5yljj"
   },
   "outputs": [],
   "source": [
    "from sklearn.preprocessing import LabelBinarizer\n",
    "from sklearn.model_selection import train_test_split\n",
    "\n",
    "X = np.array(X)\n",
    "y = LabelBinarizer().fit_transform(y)\n",
    "y = np.array(y)\n",
    "\n",
    "test_size = 0.30\n",
    "X_train, X_test, y_train, y_test = train_test_split(X, y, test_size=test_size)"
   ]
  },
  {
   "cell_type": "code",
   "execution_count": 10,
   "metadata": {
    "id": "MErOX0wBy8of"
   },
   "outputs": [],
   "source": [
    "from tensorflow.keras.layers import Input, Lambda, Dense, Flatten, Conv2D, MaxPooling2D, Dropout\n",
    "from tensorflow.keras.models import Model\n",
    "from tensorflow.keras.models import Sequential\n",
    "from keras.preprocessing.image import ImageDataGenerator\n",
    "import tensorflow as tf\n",
    "\n",
    "train_generator = ImageDataGenerator(rescale=1/255, zoom_range=0.2, horizontal_flip=True, rotation_range=30)\n",
    "test_generator = ImageDataGenerator(rescale=1/255)\n",
    "\n",
    "train_generator = train_generator.flow(np.array(X_train), y_train, shuffle=False)\n",
    "test_generator = test_generator.flow(np.array(X_test), y_test, shuffle=False)"
   ]
  },
  {
   "cell_type": "code",
   "execution_count": 32,
   "metadata": {},
   "outputs": [
    {
     "data": {
      "text/plain": [
       "((32, 100, 100, 3), (32, 1))"
      ]
     },
     "execution_count": 32,
     "metadata": {},
     "output_type": "execute_result"
    }
   ],
   "source": [
    "a,b = next(train_generator)\n",
    "a.shape, b.shape"
   ]
  },
  {
   "cell_type": "code",
   "execution_count": 64,
   "metadata": {
    "colab": {
     "base_uri": "https://localhost:8080/"
    },
    "id": "ee2y3GHqz8Wh",
    "outputId": "48593dc5-844b-4aa2-c8c6-a9f57d763211",
    "scrolled": false
   },
   "outputs": [
    {
     "name": "stdout",
     "output_type": "stream",
     "text": [
      "Model: \"sequential_26\"\n",
      "_________________________________________________________________\n",
      "Layer (type)                 Output Shape              Param #   \n",
      "=================================================================\n",
      "conv2d_68 (Conv2D)           (None, 98, 98, 32)        896       \n",
      "_________________________________________________________________\n",
      "max_pooling2d_68 (MaxPooling (None, 49, 49, 32)        0         \n",
      "_________________________________________________________________\n",
      "conv2d_69 (Conv2D)           (None, 47, 47, 64)        18496     \n",
      "_________________________________________________________________\n",
      "max_pooling2d_69 (MaxPooling (None, 23, 23, 64)        0         \n",
      "_________________________________________________________________\n",
      "conv2d_70 (Conv2D)           (None, 21, 21, 128)       73856     \n",
      "_________________________________________________________________\n",
      "max_pooling2d_70 (MaxPooling (None, 10, 10, 128)       0         \n",
      "_________________________________________________________________\n",
      "conv2d_71 (Conv2D)           (None, 8, 8, 256)         295168    \n",
      "_________________________________________________________________\n",
      "max_pooling2d_71 (MaxPooling (None, 4, 4, 256)         0         \n",
      "_________________________________________________________________\n",
      "flatten_24 (Flatten)         (None, 4096)              0         \n",
      "_________________________________________________________________\n",
      "dense_52 (Dense)             (None, 256)               1048832   \n",
      "_________________________________________________________________\n",
      "dropout_26 (Dropout)         (None, 256)               0         \n",
      "_________________________________________________________________\n",
      "dense_53 (Dense)             (None, 1)                 257       \n",
      "=================================================================\n",
      "Total params: 1,437,505\n",
      "Trainable params: 1,437,505\n",
      "Non-trainable params: 0\n",
      "_________________________________________________________________\n"
     ]
    }
   ],
   "source": [
    "model = Sequential()\n",
    "\n",
    "model.add(Conv2D(32, (3, 3), activation=\"relu\", input_shape=X_train.shape[1:]))\n",
    "model.add(MaxPooling2D(2, 2))\n",
    "model.add(Conv2D(64, (3, 3), activation=\"relu\"))\n",
    "model.add(MaxPooling2D(2, 2))\n",
    "model.add(Conv2D(128, (3, 3), activation=\"relu\"))\n",
    "model.add(MaxPooling2D(2, 2))\n",
    "model.add(Conv2D(256, (3, 3), activation=\"relu\"))\n",
    "model.add(MaxPooling2D(2, 2))\n",
    "model.add(Flatten())\n",
    "model.add(Dense(256, activation=\"relu\"))\n",
    "model.add(Dropout(0.5))\n",
    "model.add(Dense(1, activation=\"sigmoid\"))\n",
    "model.compile(loss=\"binary_crossentropy\", metrics=[\"accuracy\"], optimizer=tf.keras.optimizers.Adam(clipnorm=1.0))\n",
    "model.summary()"
   ]
  },
  {
   "cell_type": "code",
   "execution_count": 65,
   "metadata": {
    "colab": {
     "base_uri": "https://localhost:8080/",
     "height": 345
    },
    "id": "leh3Gmyh0Jgy",
    "outputId": "294e9cfe-f8c9-4cd8-8762-1f1268e14054",
    "scrolled": false
   },
   "outputs": [
    {
     "name": "stdout",
     "output_type": "stream",
     "text": [
      "Epoch 1/50\n",
      "53/53 [==============================] - 3s 56ms/step - loss: 0.6768 - accuracy: 0.5761 - val_loss: 0.6777 - val_accuracy: 0.5983\n",
      "Epoch 2/50\n",
      "53/53 [==============================] - 3s 52ms/step - loss: 0.6348 - accuracy: 0.6504 - val_loss: 0.6179 - val_accuracy: 0.6740\n",
      "Epoch 3/50\n",
      "53/53 [==============================] - 3s 53ms/step - loss: 0.6226 - accuracy: 0.6621 - val_loss: 0.5825 - val_accuracy: 0.6878\n",
      "Epoch 4/50\n",
      "53/53 [==============================] - 3s 52ms/step - loss: 0.5900 - accuracy: 0.6822 - val_loss: 0.5321 - val_accuracy: 0.7400\n",
      "Epoch 5/50\n",
      "53/53 [==============================] - 3s 53ms/step - loss: 0.5579 - accuracy: 0.7193 - val_loss: 0.5513 - val_accuracy: 0.7221\n",
      "Epoch 6/50\n",
      "53/53 [==============================] - 3s 53ms/step - loss: 0.5149 - accuracy: 0.7559 - val_loss: 0.4595 - val_accuracy: 0.7703\n",
      "Epoch 7/50\n",
      "53/53 [==============================] - 3s 52ms/step - loss: 0.4890 - accuracy: 0.7712 - val_loss: 0.3820 - val_accuracy: 0.8198\n",
      "Epoch 8/50\n",
      "53/53 [==============================] - 3s 53ms/step - loss: 0.4552 - accuracy: 0.7907 - val_loss: 0.3855 - val_accuracy: 0.8432\n",
      "Epoch 9/50\n",
      "53/53 [==============================] - 3s 53ms/step - loss: 0.3934 - accuracy: 0.8290 - val_loss: 0.2791 - val_accuracy: 0.8886\n",
      "Epoch 10/50\n",
      "53/53 [==============================] - 3s 52ms/step - loss: 0.2986 - accuracy: 0.8809 - val_loss: 0.2407 - val_accuracy: 0.8968\n",
      "Epoch 11/50\n",
      "53/53 [==============================] - 3s 52ms/step - loss: 0.2817 - accuracy: 0.8797 - val_loss: 0.2228 - val_accuracy: 0.9023\n",
      "Epoch 12/50\n",
      "53/53 [==============================] - 3s 52ms/step - loss: 0.2443 - accuracy: 0.9104 - val_loss: 0.2173 - val_accuracy: 0.9216\n",
      "Epoch 13/50\n",
      "53/53 [==============================] - 3s 53ms/step - loss: 0.2276 - accuracy: 0.9192 - val_loss: 0.2052 - val_accuracy: 0.9243\n",
      "Epoch 14/50\n",
      "53/53 [==============================] - 3s 52ms/step - loss: 0.2094 - accuracy: 0.9151 - val_loss: 0.1843 - val_accuracy: 0.9285\n",
      "Epoch 15/50\n",
      "53/53 [==============================] - 3s 53ms/step - loss: 0.1907 - accuracy: 0.9245 - val_loss: 0.1614 - val_accuracy: 0.9381\n",
      "Epoch 16/50\n",
      "53/53 [==============================] - 3s 53ms/step - loss: 0.1775 - accuracy: 0.9351 - val_loss: 0.2083 - val_accuracy: 0.9243\n",
      "Epoch 17/50\n",
      "53/53 [==============================] - 3s 52ms/step - loss: 0.1794 - accuracy: 0.9357 - val_loss: 0.1523 - val_accuracy: 0.9422\n",
      "Epoch 18/50\n",
      "53/53 [==============================] - 3s 53ms/step - loss: 0.1567 - accuracy: 0.9387 - val_loss: 0.2193 - val_accuracy: 0.9312\n",
      "Epoch 19/50\n",
      "53/53 [==============================] - 3s 52ms/step - loss: 0.1388 - accuracy: 0.9469 - val_loss: 0.1489 - val_accuracy: 0.9464\n",
      "Epoch 20/50\n",
      "53/53 [==============================] - 3s 52ms/step - loss: 0.1352 - accuracy: 0.9434 - val_loss: 0.1537 - val_accuracy: 0.9395\n",
      "Epoch 21/50\n",
      "53/53 [==============================] - 3s 53ms/step - loss: 0.1292 - accuracy: 0.9522 - val_loss: 0.1419 - val_accuracy: 0.9505\n",
      "Epoch 22/50\n",
      "53/53 [==============================] - 3s 52ms/step - loss: 0.1280 - accuracy: 0.9469 - val_loss: 0.1621 - val_accuracy: 0.9409\n",
      "Epoch 23/50\n",
      "53/53 [==============================] - 3s 52ms/step - loss: 0.1036 - accuracy: 0.9646 - val_loss: 0.1639 - val_accuracy: 0.9422\n",
      "Epoch 24/50\n",
      "53/53 [==============================] - 3s 56ms/step - loss: 0.1380 - accuracy: 0.9475 - val_loss: 0.1499 - val_accuracy: 0.9436\n",
      "Epoch 25/50\n",
      "53/53 [==============================] - 3s 52ms/step - loss: 0.1106 - accuracy: 0.9570 - val_loss: 0.1414 - val_accuracy: 0.9505\n",
      "Epoch 26/50\n",
      "53/53 [==============================] - 3s 52ms/step - loss: 0.0930 - accuracy: 0.9617 - val_loss: 0.1861 - val_accuracy: 0.9464\n",
      "Epoch 27/50\n",
      "53/53 [==============================] - 3s 52ms/step - loss: 0.0945 - accuracy: 0.9623 - val_loss: 0.1616 - val_accuracy: 0.9491\n",
      "Epoch 28/50\n",
      "53/53 [==============================] - 3s 53ms/step - loss: 0.1171 - accuracy: 0.9575 - val_loss: 0.1405 - val_accuracy: 0.9574\n",
      "Epoch 29/50\n",
      "53/53 [==============================] - 3s 52ms/step - loss: 0.0918 - accuracy: 0.9629 - val_loss: 0.1603 - val_accuracy: 0.9505\n",
      "Epoch 30/50\n",
      "53/53 [==============================] - 3s 53ms/step - loss: 0.1028 - accuracy: 0.9540 - val_loss: 0.1268 - val_accuracy: 0.9560\n",
      "Epoch 31/50\n",
      "53/53 [==============================] - 3s 54ms/step - loss: 0.1173 - accuracy: 0.9599 - val_loss: 0.1426 - val_accuracy: 0.9491\n",
      "Epoch 32/50\n",
      "53/53 [==============================] - 3s 52ms/step - loss: 0.0847 - accuracy: 0.9670 - val_loss: 0.1833 - val_accuracy: 0.9450\n",
      "Epoch 33/50\n",
      "53/53 [==============================] - 3s 52ms/step - loss: 0.0893 - accuracy: 0.9664 - val_loss: 0.1221 - val_accuracy: 0.9629\n",
      "Epoch 34/50\n",
      "53/53 [==============================] - 3s 52ms/step - loss: 0.0827 - accuracy: 0.9634 - val_loss: 0.1487 - val_accuracy: 0.9560\n",
      "Epoch 35/50\n",
      "53/53 [==============================] - 3s 52ms/step - loss: 0.0940 - accuracy: 0.9664 - val_loss: 0.1205 - val_accuracy: 0.9587\n",
      "Epoch 36/50\n",
      "53/53 [==============================] - 3s 53ms/step - loss: 0.0824 - accuracy: 0.9658 - val_loss: 0.2405 - val_accuracy: 0.9450\n",
      "Epoch 37/50\n",
      "53/53 [==============================] - 3s 53ms/step - loss: 0.0881 - accuracy: 0.9652 - val_loss: 0.1377 - val_accuracy: 0.9574\n",
      "Epoch 38/50\n",
      "53/53 [==============================] - 3s 52ms/step - loss: 0.0841 - accuracy: 0.9664 - val_loss: 0.1174 - val_accuracy: 0.9629\n",
      "Epoch 39/50\n",
      "53/53 [==============================] - 3s 52ms/step - loss: 0.0755 - accuracy: 0.9711 - val_loss: 0.1627 - val_accuracy: 0.9519\n",
      "Epoch 40/50\n",
      "53/53 [==============================] - 3s 52ms/step - loss: 0.0814 - accuracy: 0.9611 - val_loss: 0.1219 - val_accuracy: 0.9587\n",
      "Epoch 41/50\n",
      "53/53 [==============================] - 3s 52ms/step - loss: 0.0751 - accuracy: 0.9711 - val_loss: 0.1195 - val_accuracy: 0.9615\n",
      "Epoch 42/50\n",
      "53/53 [==============================] - 3s 52ms/step - loss: 0.0763 - accuracy: 0.9705 - val_loss: 0.1438 - val_accuracy: 0.9532\n",
      "Epoch 43/50\n",
      "53/53 [==============================] - 3s 52ms/step - loss: 0.0668 - accuracy: 0.9717 - val_loss: 0.1159 - val_accuracy: 0.9656\n",
      "Epoch 44/50\n",
      "53/53 [==============================] - 3s 52ms/step - loss: 0.0710 - accuracy: 0.9741 - val_loss: 0.1139 - val_accuracy: 0.9587\n",
      "Epoch 45/50\n",
      "53/53 [==============================] - 3s 53ms/step - loss: 0.0590 - accuracy: 0.9758 - val_loss: 0.1279 - val_accuracy: 0.9670\n",
      "Epoch 46/50\n",
      "53/53 [==============================] - 3s 53ms/step - loss: 0.0619 - accuracy: 0.9729 - val_loss: 0.1297 - val_accuracy: 0.9560\n",
      "Epoch 47/50\n",
      "53/53 [==============================] - 3s 53ms/step - loss: 0.0875 - accuracy: 0.9688 - val_loss: 0.1593 - val_accuracy: 0.9505\n",
      "Epoch 48/50\n",
      "53/53 [==============================] - 3s 53ms/step - loss: 0.0795 - accuracy: 0.9752 - val_loss: 0.1374 - val_accuracy: 0.9546\n",
      "Epoch 49/50\n",
      "53/53 [==============================] - 3s 52ms/step - loss: 0.0576 - accuracy: 0.9811 - val_loss: 0.1960 - val_accuracy: 0.9381\n",
      "Epoch 50/50\n",
      "53/53 [==============================] - 3s 53ms/step - loss: 0.0529 - accuracy: 0.9805 - val_loss: 0.1716 - val_accuracy: 0.9519\n"
     ]
    }
   ],
   "source": [
    "history = model.fit(train_generator, epochs=50, validation_data=test_generator, shuffle=True, validation_steps=len(test_generator))"
   ]
  },
  {
   "cell_type": "code",
   "execution_count": 66,
   "metadata": {},
   "outputs": [
    {
     "name": "stdout",
     "output_type": "stream",
     "text": [
      "              precision    recall  f1-score   support\n",
      "\n",
      "  ClosedFace       0.93      0.97      0.95       376\n",
      "    OpenFace       0.96      0.92      0.94       351\n",
      "\n",
      "    accuracy                           0.94       727\n",
      "   macro avg       0.95      0.94      0.94       727\n",
      "weighted avg       0.95      0.94      0.94       727\n",
      "\n"
     ]
    }
   ],
   "source": [
    "labels_new = ['ClosedFace', 'OpenFace']\n",
    "prediction = model.predict_classes(X_test)\n",
    "from sklearn.metrics import classification_report\n",
    "print(classification_report(y_test, prediction, target_names=labels_new))"
   ]
  },
  {
   "cell_type": "code",
   "execution_count": 11,
   "metadata": {
    "scrolled": false
   },
   "outputs": [
    {
     "name": "stdout",
     "output_type": "stream",
     "text": [
      "WARNING:tensorflow:From /share/pkg.7/tensorflow/2.3.1/install/lib/SCC/../python3.7/site-packages/tensorflow/python/training/tracking/tracking.py:111: Model.state_updates (from tensorflow.python.keras.engine.training) is deprecated and will be removed in a future version.\n",
      "Instructions for updating:\n",
      "This property should not be used in TensorFlow 2.0, as updates are applied automatically.\n",
      "WARNING:tensorflow:From /share/pkg.7/tensorflow/2.3.1/install/lib/SCC/../python3.7/site-packages/tensorflow/python/training/tracking/tracking.py:111: Layer.updates (from tensorflow.python.keras.engine.base_layer) is deprecated and will be removed in a future version.\n",
      "Instructions for updating:\n",
      "This property should not be used in TensorFlow 2.0, as updates are applied automatically.\n",
      "INFO:tensorflow:Assets written to: drowsiness.model/assets\n"
     ]
    }
   ],
   "source": [
    "model.save(\"eyesOpenClose.model\")"
   ]
  },
  {
   "cell_type": "code",
   "execution_count": 18,
   "metadata": {},
   "outputs": [],
   "source": [
    "model.save(\"eyesOpenClose.h5\")"
   ]
  }
 ],
 "metadata": {
  "accelerator": "GPU",
  "colab": {
   "provenance": []
  },
  "gpuClass": "standard",
  "kernelspec": {
   "display_name": "Python 3",
   "language": "python",
   "name": "python3"
  },
  "language_info": {
   "codemirror_mode": {
    "name": "ipython",
    "version": 3
   },
   "file_extension": ".py",
   "mimetype": "text/x-python",
   "name": "python",
   "nbconvert_exporter": "python",
   "pygments_lexer": "ipython3",
   "version": "3.7.9"
  }
 },
 "nbformat": 4,
 "nbformat_minor": 1
}
