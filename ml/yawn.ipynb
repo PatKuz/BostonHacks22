{
 "cells": [
  {
   "cell_type": "code",
   "execution_count": 1,
   "metadata": {
    "colab": {
     "base_uri": "https://localhost:8080/"
    },
    "id": "SkENTdxQqub4",
    "outputId": "5fc922c8-daa9-4d12-a988-4263cbf958bb"
   },
   "outputs": [
    {
     "data": {
      "text/plain": [
       "['Open', 'no_yawn', 'yawn', 'Closed']"
      ]
     },
     "execution_count": 1,
     "metadata": {},
     "output_type": "execute_result"
    }
   ],
   "source": [
    "import numpy as np # linear algebra\n",
    "import pandas as pd # data processing, CSV file I/O (e.g. pd.read_csv)\n",
    "import os\n",
    "import cv2\n",
    "\n",
    "labels = os.listdir('train')\n",
    "labels"
   ]
  },
  {
   "cell_type": "code",
   "execution_count": 5,
   "metadata": {
    "colab": {
     "base_uri": "https://localhost:8080/"
    },
    "id": "Ojzab6kGs-B3",
    "outputId": "db7013b0-8038-41af-c098-654d3b2c7f5d"
   },
   "outputs": [
    {
     "name": "stderr",
     "output_type": "stream",
     "text": [
      "  1%|          | 4/723 [00:00<00:20, 34.54it/s]"
     ]
    },
    {
     "name": "stdout",
     "output_type": "stream",
     "text": [
      "0\n"
     ]
    },
    {
     "name": "stderr",
     "output_type": "stream",
     "text": [
      "100%|██████████| 723/723 [00:20<00:00, 35.17it/s]\n",
      "  1%|          | 4/725 [00:00<00:20, 35.32it/s]"
     ]
    },
    {
     "name": "stdout",
     "output_type": "stream",
     "text": [
      "1\n"
     ]
    },
    {
     "name": "stderr",
     "output_type": "stream",
     "text": [
      "100%|██████████| 725/725 [00:20<00:00, 35.53it/s]\n"
     ]
    }
   ],
   "source": [
    "from tqdm import tqdm\n",
    "def get_yawn_data(direc=\"train\"):\n",
    "    yaw_no = []\n",
    "    IMG_SIZE = 100\n",
    "    categories = [\"yawn\", \"no_yawn\"]\n",
    "    for category in categories:\n",
    "        path_link = os.path.join(direc, category)\n",
    "        class_num1 = categories.index(category)\n",
    "        print(class_num1)\n",
    "        for image in tqdm(os.listdir(path_link)):\n",
    "            image_array = cv2.imread(os.path.join(path_link, image), cv2.IMREAD_COLOR)\n",
    "            face_cascade = cv2.CascadeClassifier(cv2.data.haarcascades + 'haarcascade_frontalface_default.xml')\n",
    "            faces = face_cascade.detectMultiScale(image_array, 1.3, 5)\n",
    "            for (x, y, w, h) in faces:\n",
    "                img = cv2.rectangle(image_array, (x, y), (x+w, y+h), (0, 255, 0), 2)\n",
    "                roi_color = img[y:y+h, x:x+w]\n",
    "                resized_array = cv2.resize(roi_color, (IMG_SIZE, IMG_SIZE))\n",
    "                yaw_no.append([resized_array, class_num1])\n",
    "    return yaw_no\n",
    "\n",
    "data = get_yawn_data()\n",
    "X,y = list(zip(*data))"
   ]
  },
  {
   "cell_type": "code",
   "execution_count": 6,
   "metadata": {
    "id": "bp6bB7R5yljj"
   },
   "outputs": [],
   "source": [
    "from sklearn.preprocessing import LabelBinarizer\n",
    "from sklearn.model_selection import train_test_split\n",
    "\n",
    "X = np.array(X)\n",
    "X = X.reshape(-1, 100, 100, 3)\n",
    "y = LabelBinarizer().fit_transform(y)\n",
    "y = np.array(y)\n",
    "\n",
    "test_size = 0.30\n",
    "X_train, X_test, y_train, y_test = train_test_split(X, y, test_size=test_size)"
   ]
  },
  {
   "cell_type": "code",
   "execution_count": 7,
   "metadata": {
    "id": "MErOX0wBy8of"
   },
   "outputs": [],
   "source": [
    "from tensorflow.keras.layers import Input, Lambda, Dense, Flatten, Conv2D, MaxPooling2D, Dropout\n",
    "from tensorflow.keras.models import Model\n",
    "from tensorflow.keras.models import Sequential\n",
    "from keras.preprocessing.image import ImageDataGenerator\n",
    "import tensorflow as tf\n",
    "\n",
    "train_generator = ImageDataGenerator(rescale=1/255, zoom_range=0.2, horizontal_flip=True, rotation_range=30)\n",
    "test_generator = ImageDataGenerator(rescale=1/255)\n",
    "\n",
    "train_generator = train_generator.flow(np.array(X_train), y_train, shuffle=False)\n",
    "test_generator = test_generator.flow(np.array(X_test), y_test, shuffle=False)"
   ]
  },
  {
   "cell_type": "code",
   "execution_count": 16,
   "metadata": {
    "colab": {
     "base_uri": "https://localhost:8080/"
    },
    "id": "ee2y3GHqz8Wh",
    "outputId": "48593dc5-844b-4aa2-c8c6-a9f57d763211"
   },
   "outputs": [
    {
     "name": "stdout",
     "output_type": "stream",
     "text": [
      "Model: \"sequential_3\"\n",
      "_________________________________________________________________\n",
      "Layer (type)                 Output Shape              Param #   \n",
      "=================================================================\n",
      "conv2d_12 (Conv2D)           (None, 98, 98, 256)       7168      \n",
      "_________________________________________________________________\n",
      "max_pooling2d_12 (MaxPooling (None, 49, 49, 256)       0         \n",
      "_________________________________________________________________\n",
      "conv2d_13 (Conv2D)           (None, 47, 47, 128)       295040    \n",
      "_________________________________________________________________\n",
      "max_pooling2d_13 (MaxPooling (None, 23, 23, 128)       0         \n",
      "_________________________________________________________________\n",
      "conv2d_14 (Conv2D)           (None, 21, 21, 64)        73792     \n",
      "_________________________________________________________________\n",
      "max_pooling2d_14 (MaxPooling (None, 10, 10, 64)        0         \n",
      "_________________________________________________________________\n",
      "conv2d_15 (Conv2D)           (None, 8, 8, 32)          18464     \n",
      "_________________________________________________________________\n",
      "max_pooling2d_15 (MaxPooling (None, 4, 4, 32)          0         \n",
      "_________________________________________________________________\n",
      "flatten_3 (Flatten)          (None, 512)               0         \n",
      "_________________________________________________________________\n",
      "dense_6 (Dense)              (None, 256)               131328    \n",
      "_________________________________________________________________\n",
      "dropout_3 (Dropout)          (None, 256)               0         \n",
      "_________________________________________________________________\n",
      "dense_7 (Dense)              (None, 1)                 257       \n",
      "=================================================================\n",
      "Total params: 526,049\n",
      "Trainable params: 526,049\n",
      "Non-trainable params: 0\n",
      "_________________________________________________________________\n"
     ]
    }
   ],
   "source": [
    "model = Sequential()\n",
    "\n",
    "model.add(Conv2D(256, (3, 3), activation=\"relu\", input_shape=X_train.shape[1:]))\n",
    "model.add(MaxPooling2D(2, 2))\n",
    "model.add(Conv2D(128, (3, 3), activation=\"relu\"))\n",
    "model.add(MaxPooling2D(2, 2))\n",
    "model.add(Conv2D(64, (3, 3), activation=\"relu\"))\n",
    "model.add(MaxPooling2D(2, 2))\n",
    "model.add(Conv2D(32, (3, 3), activation=\"relu\"))\n",
    "model.add(MaxPooling2D(2, 2))\n",
    "model.add(Flatten())\n",
    "model.add(Dense(256, activation=\"relu\"))\n",
    "model.add(Dropout(0.7))\n",
    "model.add(Dense(1, activation=\"sigmoid\"))\n",
    "\n",
    "model.compile(loss=\"binary_crossentropy\", metrics=[\"accuracy\"], optimizer=\"adam\")\n",
    "model.summary()"
   ]
  },
  {
   "cell_type": "code",
   "execution_count": 17,
   "metadata": {
    "colab": {
     "base_uri": "https://localhost:8080/",
     "height": 345
    },
    "id": "leh3Gmyh0Jgy",
    "outputId": "294e9cfe-f8c9-4cd8-8762-1f1268e14054"
   },
   "outputs": [
    {
     "name": "stdout",
     "output_type": "stream",
     "text": [
      "Epoch 1/50\n",
      "11/11 [==============================] - 1s 63ms/step - loss: 0.7040 - accuracy: 0.4773 - val_loss: 0.6978 - val_accuracy: 0.4577\n",
      "Epoch 2/50\n",
      "11/11 [==============================] - 1s 53ms/step - loss: 0.6943 - accuracy: 0.5317 - val_loss: 0.6929 - val_accuracy: 0.4577\n",
      "Epoch 3/50\n",
      "11/11 [==============================] - 1s 53ms/step - loss: 0.6850 - accuracy: 0.5861 - val_loss: 0.7328 - val_accuracy: 0.4577\n",
      "Epoch 4/50\n",
      "11/11 [==============================] - 1s 53ms/step - loss: 0.6365 - accuracy: 0.6193 - val_loss: 0.6387 - val_accuracy: 0.6408\n",
      "Epoch 5/50\n",
      "11/11 [==============================] - 1s 53ms/step - loss: 0.5536 - accuracy: 0.7432 - val_loss: 0.7500 - val_accuracy: 0.6972\n",
      "Epoch 6/50\n",
      "11/11 [==============================] - 1s 56ms/step - loss: 0.6023 - accuracy: 0.7190 - val_loss: 0.6361 - val_accuracy: 0.6972\n",
      "Epoch 7/50\n",
      "11/11 [==============================] - 1s 53ms/step - loss: 0.5321 - accuracy: 0.6798 - val_loss: 0.6989 - val_accuracy: 0.7042\n",
      "Epoch 8/50\n",
      "11/11 [==============================] - 1s 53ms/step - loss: 0.4966 - accuracy: 0.7523 - val_loss: 0.6663 - val_accuracy: 0.6831\n",
      "Epoch 9/50\n",
      "11/11 [==============================] - 1s 53ms/step - loss: 0.4903 - accuracy: 0.7462 - val_loss: 0.6312 - val_accuracy: 0.7113\n",
      "Epoch 10/50\n",
      "11/11 [==============================] - 1s 54ms/step - loss: 0.4532 - accuracy: 0.7644 - val_loss: 0.6893 - val_accuracy: 0.7113\n",
      "Epoch 11/50\n",
      "11/11 [==============================] - 1s 53ms/step - loss: 0.4561 - accuracy: 0.7795 - val_loss: 0.6210 - val_accuracy: 0.7113\n",
      "Epoch 12/50\n",
      "11/11 [==============================] - 1s 53ms/step - loss: 0.4134 - accuracy: 0.7885 - val_loss: 0.5450 - val_accuracy: 0.7676\n",
      "Epoch 13/50\n",
      "11/11 [==============================] - 1s 57ms/step - loss: 0.4233 - accuracy: 0.8036 - val_loss: 0.4795 - val_accuracy: 0.7887\n",
      "Epoch 14/50\n",
      "11/11 [==============================] - 1s 56ms/step - loss: 0.4092 - accuracy: 0.8157 - val_loss: 0.4328 - val_accuracy: 0.8239\n",
      "Epoch 15/50\n",
      "11/11 [==============================] - 1s 53ms/step - loss: 0.3689 - accuracy: 0.8278 - val_loss: 0.4280 - val_accuracy: 0.8310\n",
      "Epoch 16/50\n",
      "11/11 [==============================] - 1s 53ms/step - loss: 0.3659 - accuracy: 0.8308 - val_loss: 0.4172 - val_accuracy: 0.8451\n",
      "Epoch 17/50\n",
      "11/11 [==============================] - 1s 53ms/step - loss: 0.3709 - accuracy: 0.8429 - val_loss: 0.4542 - val_accuracy: 0.8310\n",
      "Epoch 18/50\n",
      "11/11 [==============================] - 1s 53ms/step - loss: 0.4167 - accuracy: 0.8066 - val_loss: 0.4529 - val_accuracy: 0.8310\n",
      "Epoch 19/50\n",
      "11/11 [==============================] - 1s 53ms/step - loss: 0.3954 - accuracy: 0.8157 - val_loss: 0.4911 - val_accuracy: 0.8169\n",
      "Epoch 20/50\n",
      "11/11 [==============================] - 1s 53ms/step - loss: 0.3727 - accuracy: 0.8429 - val_loss: 0.3800 - val_accuracy: 0.8451\n",
      "Epoch 21/50\n",
      "11/11 [==============================] - 1s 53ms/step - loss: 0.3551 - accuracy: 0.8610 - val_loss: 0.4002 - val_accuracy: 0.8310\n",
      "Epoch 22/50\n",
      "11/11 [==============================] - 1s 54ms/step - loss: 0.3432 - accuracy: 0.8459 - val_loss: 0.4682 - val_accuracy: 0.8099\n",
      "Epoch 23/50\n",
      "11/11 [==============================] - 1s 53ms/step - loss: 0.3331 - accuracy: 0.8580 - val_loss: 0.4510 - val_accuracy: 0.7887\n",
      "Epoch 24/50\n",
      "11/11 [==============================] - 1s 54ms/step - loss: 0.3336 - accuracy: 0.8550 - val_loss: 0.3961 - val_accuracy: 0.8521\n",
      "Epoch 25/50\n",
      "11/11 [==============================] - 1s 54ms/step - loss: 0.3150 - accuracy: 0.8822 - val_loss: 0.3798 - val_accuracy: 0.8662\n",
      "Epoch 26/50\n",
      "11/11 [==============================] - 1s 54ms/step - loss: 0.3525 - accuracy: 0.8429 - val_loss: 0.4585 - val_accuracy: 0.8239\n",
      "Epoch 27/50\n",
      "11/11 [==============================] - 1s 53ms/step - loss: 0.2994 - accuracy: 0.8640 - val_loss: 0.3960 - val_accuracy: 0.8451\n",
      "Epoch 28/50\n",
      "11/11 [==============================] - 1s 54ms/step - loss: 0.3436 - accuracy: 0.8459 - val_loss: 0.5486 - val_accuracy: 0.7676\n",
      "Epoch 29/50\n",
      "11/11 [==============================] - 1s 53ms/step - loss: 0.3451 - accuracy: 0.8640 - val_loss: 0.3611 - val_accuracy: 0.8662\n",
      "Epoch 30/50\n",
      "11/11 [==============================] - 1s 54ms/step - loss: 0.3204 - accuracy: 0.8792 - val_loss: 0.3533 - val_accuracy: 0.8732\n",
      "Epoch 31/50\n",
      "11/11 [==============================] - 1s 53ms/step - loss: 0.3033 - accuracy: 0.8792 - val_loss: 0.3328 - val_accuracy: 0.8732\n",
      "Epoch 32/50\n",
      "11/11 [==============================] - 1s 53ms/step - loss: 0.2787 - accuracy: 0.8912 - val_loss: 0.4115 - val_accuracy: 0.8380\n",
      "Epoch 33/50\n",
      "11/11 [==============================] - 1s 54ms/step - loss: 0.3031 - accuracy: 0.8731 - val_loss: 0.3176 - val_accuracy: 0.9014\n",
      "Epoch 34/50\n",
      "11/11 [==============================] - 3s 230ms/step - loss: 0.3182 - accuracy: 0.8640 - val_loss: 0.2871 - val_accuracy: 0.9014\n",
      "Epoch 35/50\n",
      "11/11 [==============================] - 1s 56ms/step - loss: 0.2868 - accuracy: 0.8792 - val_loss: 0.2782 - val_accuracy: 0.9014\n",
      "Epoch 36/50\n",
      "11/11 [==============================] - 1s 57ms/step - loss: 0.2580 - accuracy: 0.8943 - val_loss: 0.3007 - val_accuracy: 0.8803\n",
      "Epoch 37/50\n",
      "11/11 [==============================] - 1s 53ms/step - loss: 0.3165 - accuracy: 0.8701 - val_loss: 0.3239 - val_accuracy: 0.8803\n",
      "Epoch 38/50\n",
      "11/11 [==============================] - 1s 56ms/step - loss: 0.3006 - accuracy: 0.8580 - val_loss: 0.3067 - val_accuracy: 0.9085\n",
      "Epoch 39/50\n",
      "11/11 [==============================] - 1s 53ms/step - loss: 0.2438 - accuracy: 0.8973 - val_loss: 0.2781 - val_accuracy: 0.9014\n",
      "Epoch 40/50\n",
      "11/11 [==============================] - 1s 53ms/step - loss: 0.2220 - accuracy: 0.9124 - val_loss: 0.3644 - val_accuracy: 0.8803\n",
      "Epoch 41/50\n",
      "11/11 [==============================] - 1s 53ms/step - loss: 0.2239 - accuracy: 0.8912 - val_loss: 0.2788 - val_accuracy: 0.9085\n",
      "Epoch 42/50\n",
      "11/11 [==============================] - 1s 53ms/step - loss: 0.2449 - accuracy: 0.9184 - val_loss: 0.2625 - val_accuracy: 0.8944\n",
      "Epoch 43/50\n",
      "11/11 [==============================] - 1s 53ms/step - loss: 0.2446 - accuracy: 0.9003 - val_loss: 0.3033 - val_accuracy: 0.8873\n",
      "Epoch 44/50\n",
      "11/11 [==============================] - 1s 56ms/step - loss: 0.1975 - accuracy: 0.9154 - val_loss: 0.3108 - val_accuracy: 0.8944\n",
      "Epoch 45/50\n",
      "11/11 [==============================] - 1s 53ms/step - loss: 0.2096 - accuracy: 0.8912 - val_loss: 0.2894 - val_accuracy: 0.9014\n",
      "Epoch 46/50\n",
      "11/11 [==============================] - 1s 53ms/step - loss: 0.2112 - accuracy: 0.9184 - val_loss: 0.2430 - val_accuracy: 0.9155\n",
      "Epoch 47/50\n",
      "11/11 [==============================] - 1s 53ms/step - loss: 0.2294 - accuracy: 0.9154 - val_loss: 0.2300 - val_accuracy: 0.9155\n",
      "Epoch 48/50\n",
      "11/11 [==============================] - 1s 54ms/step - loss: 0.1842 - accuracy: 0.9215 - val_loss: 0.2402 - val_accuracy: 0.9085\n",
      "Epoch 49/50\n",
      "11/11 [==============================] - 1s 56ms/step - loss: 0.1844 - accuracy: 0.9094 - val_loss: 0.2811 - val_accuracy: 0.9155\n",
      "Epoch 50/50\n",
      "11/11 [==============================] - 1s 56ms/step - loss: 0.2014 - accuracy: 0.9335 - val_loss: 0.3026 - val_accuracy: 0.9085\n"
     ]
    }
   ],
   "source": [
    "history = model.fit(train_generator, epochs=50, validation_data=test_generator, shuffle=True, validation_steps=len(test_generator))"
   ]
  },
  {
   "cell_type": "code",
   "execution_count": 18,
   "metadata": {
    "id": "CPDoIV6J0Oa9"
   },
   "outputs": [
    {
     "name": "stdout",
     "output_type": "stream",
     "text": [
      "              precision    recall  f1-score   support\n",
      "\n",
      "        yawn       0.97      0.88      0.92        65\n",
      "     no_yawn       0.90      0.97      0.94        77\n",
      "\n",
      "    accuracy                           0.93       142\n",
      "   macro avg       0.93      0.93      0.93       142\n",
      "weighted avg       0.93      0.93      0.93       142\n",
      "\n"
     ]
    }
   ],
   "source": [
    "from sklearn.metrics import classification_report\n",
    "\n",
    "labels_new = [\"yawn\", \"no_yawn\"]\n",
    "prediction = model.predict_classes(X_test)\n",
    "print(classification_report(y_test, prediction, target_names=labels_new))"
   ]
  },
  {
   "cell_type": "code",
   "execution_count": 19,
   "metadata": {
    "scrolled": true
   },
   "outputs": [
    {
     "name": "stdout",
     "output_type": "stream",
     "text": [
      "WARNING:tensorflow:From /share/pkg.7/tensorflow/2.3.1/install/lib/SCC/../python3.7/site-packages/tensorflow/python/training/tracking/tracking.py:111: Model.state_updates (from tensorflow.python.keras.engine.training) is deprecated and will be removed in a future version.\n",
      "Instructions for updating:\n",
      "This property should not be used in TensorFlow 2.0, as updates are applied automatically.\n",
      "WARNING:tensorflow:From /share/pkg.7/tensorflow/2.3.1/install/lib/SCC/../python3.7/site-packages/tensorflow/python/training/tracking/tracking.py:111: Layer.updates (from tensorflow.python.keras.engine.base_layer) is deprecated and will be removed in a future version.\n",
      "Instructions for updating:\n",
      "This property should not be used in TensorFlow 2.0, as updates are applied automatically.\n",
      "INFO:tensorflow:Assets written to: yawn.model/assets\n"
     ]
    }
   ],
   "source": [
    "model.save(\"yawn.model\")"
   ]
  },
  {
   "cell_type": "code",
   "execution_count": 20,
   "metadata": {},
   "outputs": [],
   "source": [
    "model.save(\"yawn.h5\")"
   ]
  }
 ],
 "metadata": {
  "accelerator": "GPU",
  "colab": {
   "provenance": []
  },
  "gpuClass": "standard",
  "kernelspec": {
   "display_name": "Python 3",
   "language": "python",
   "name": "python3"
  },
  "language_info": {
   "codemirror_mode": {
    "name": "ipython",
    "version": 3
   },
   "file_extension": ".py",
   "mimetype": "text/x-python",
   "name": "python",
   "nbconvert_exporter": "python",
   "pygments_lexer": "ipython3",
   "version": "3.7.9"
  }
 },
 "nbformat": 4,
 "nbformat_minor": 1
}
