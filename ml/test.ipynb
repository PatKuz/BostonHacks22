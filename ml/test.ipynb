{
 "cells": [
  {
   "cell_type": "code",
   "execution_count": 1,
   "id": "8e4daca4",
   "metadata": {},
   "outputs": [],
   "source": [
    "from tensorflow import keras\n",
    "eyesModel = keras.models.load_model('eyesOpenClose.h5')\n",
    "yawnModel = keras.models.load_model('yawn.h5')"
   ]
  },
  {
   "cell_type": "code",
   "execution_count": 2,
   "id": "8eddc70d",
   "metadata": {
    "scrolled": false
   },
   "outputs": [
    {
     "data": {
      "text/plain": [
       "None"
      ]
     },
     "metadata": {},
     "output_type": "display_data"
    },
    {
     "data": {
      "application/vnd.jupyter.widget-view+json": {
       "model_id": "2184af5443d845e9a17b443f7ae1de55",
       "version_major": 2,
       "version_minor": 0
      },
      "text/plain": [
       "Button(button_style='danger', description='Stop', icon='square', style=ButtonStyle(), tooltip='Description')"
      ]
     },
     "metadata": {},
     "output_type": "display_data"
    },
    {
     "name": "stdout",
     "output_type": "stream",
     "text": [
      "52.6388269\n"
     ]
    },
    {
     "name": "stderr",
     "output_type": "stream",
     "text": [
      "Exception in thread Thread-5:\n",
      "Traceback (most recent call last):\n",
      "  File \"C:\\Users\\fgpac\\anaconda3\\envs\\bhacks\\lib\\threading.py\", line 932, in _bootstrap_inner\n",
      "    self.run()\n",
      "  File \"C:\\Users\\fgpac\\anaconda3\\envs\\bhacks\\lib\\threading.py\", line 870, in run\n",
      "    self._target(*self._args, **self._kwargs)\n",
      "  File \"C:\\Users\\fgpac\\AppData\\Local\\Temp\\ipykernel_11596\\849121716.py\", line 43, in view\n",
      "AttributeError: 'NoneType' object has no attribute 'shape'\n"
     ]
    }
   ],
   "source": [
    "import matplotlib.pyplot as plt\n",
    "import cv2\n",
    "import numpy as np\n",
    "from IPython.display import display, Image\n",
    "import ipywidgets as widgets\n",
    "import threading\n",
    "import time\n",
    "\n",
    "# Stop button\n",
    "# ================\n",
    "stopButton = widgets.Button(\n",
    "    description='Stop',\n",
    "    disabled=False,\n",
    "    button_style='danger', # 'success', 'info', 'warning', 'danger' or ''\n",
    "    tooltip='Description',\n",
    "    icon='square' # (FontAwesome names without the `fa-` prefix)\n",
    ")\n",
    "\n",
    "\n",
    "# Display function\n",
    "# ================\n",
    "cap = cv2.VideoCapture(0)\n",
    "face_cascade = cv2.CascadeClassifier('haarcascade_frontalface_default.xml')\n",
    "eye_cascade = cv2.CascadeClassifier('haarcascade_eye.xml')\n",
    "display_handle=display(None, display_id=True)\n",
    "\n",
    "detector = cv2.FaceDetectorYN.create(\n",
    "        'face_detection_yunet_2022mar.onnx',\n",
    "        \"\",\n",
    "        (320, 320),\n",
    "        0.9, # score threshold\n",
    "        0.3, # nms threshold\n",
    "        5000 # top k\n",
    "    )\n",
    "\n",
    "preds = []\n",
    "start_time = time.perf_counter()\n",
    "closed_imgs = []\n",
    "open_imgs = []\n",
    "def view(button):\n",
    "    while True:\n",
    "        _, frame = cap.read()\n",
    "        detector.setInputSize((frame.shape[1], frame.shape[0]))\n",
    "        frame = cv2.flip(frame, 1) # if your camera reverses your image\n",
    "        \n",
    "        faces = detector.detect(frame)[1] # face_cascade.detectMultiScale(frame, 1.3, 5)\n",
    "        eyes = [] # eye_cascade.detectMultiScale(frame, scaleFactor = 1.05, minNeighbors = 1)\n",
    "        \n",
    "        face_boxes = []\n",
    "        if faces is not None:\n",
    "            for face in faces:\n",
    "                x,y,w,h = face[:4].astype('int')\n",
    "                face_boxes.append([x,y,x+w,y+h])\n",
    "                \n",
    "            lx,ly,la,lb = sorted([[x,y,a,b,(a-x)*(b-y)] for x,y,a,b in face_boxes], key=lambda x: x[4])[-1][:-1]\n",
    "            face_array = frame[max(0,ly):min(lb,frame.shape[0]), max(0,lx):min(la,frame.shape[1])]\n",
    "#             if face_array.shape[0] > 0 and face_array.shape[1]:\n",
    "            face_array = cv2.resize(face_array, (100,100)).reshape(-1, 100, 100, 3)\n",
    "#             _, arr = cv2.imencode('.jpeg', face_array[0])\n",
    "#             display(Image(data=arr.tobytes()))\n",
    "#             face_array = face_array / 255\n",
    "            yawn_pred = yawnModel.predict(face_array/255, verbose=0).item()\n",
    "            yawn_text = \"Mouth: Open\" if yawn_pred < 0.2 else \"Mouth: Closed\"\n",
    "            cv2.putText(frame, yawn_text, (frame.shape[1]-250,frame.shape[0]-50), cv2.FONT_HERSHEY_SIMPLEX, 1, (255, 0, 0), 2)\n",
    "\n",
    "            eyes_pred = eyesModel.predict(face_array/255, verbose=0).item()\n",
    "            eyes_text = \"Eyes: Closed\" if eyes_pred < 0.50 else \"Eyes: Open\"\n",
    "            cv2.putText(frame, eyes_text, (25,frame.shape[0]-50), cv2.FONT_HERSHEY_SIMPLEX, 1, (255, 0, 0), 2)\n",
    "\n",
    "\n",
    "            frame = cv2.rectangle(frame, (lx, ly), (la, lb), (0, 255, 0), 2)\n",
    "            # get largest face   \n",
    "            \n",
    "\n",
    "#         for (x, y, w, h) in eyes:\n",
    "#             if any([box[0] <= x and box[1] <= y and x+w <= box[2] and y+h <= box[3] for box in face_boxes]):\n",
    "#                 frame = cv2.rectangle(frame, (x, y), (x+w, y+h), (0, 255, 0), 2)\n",
    "        \n",
    "        _, frame = cv2.imencode('.jpeg', frame)\n",
    "        display_handle.update(Image(data=frame.tobytes()))\n",
    "#         display(Image(data=frame.tobytes()))\n",
    "#         time.sleep(0.25)\n",
    "            \n",
    "            \n",
    "def closer(b):\n",
    "    print(time.perf_counter()-start_time)\n",
    "    cap.release()\n",
    "    display_handle.update(None)\n",
    "            \n",
    "stopButton.on_click(closer)\n",
    "            \n",
    "# Run\n",
    "# ================\n",
    "display(stopButton)\n",
    "thread = threading.Thread(target=view, args=(stopButton,))\n",
    "thread.start()"
   ]
  },
  {
   "cell_type": "code",
   "execution_count": null,
   "id": "ffa5527a",
   "metadata": {},
   "outputs": [],
   "source": []
  },
  {
   "cell_type": "code",
   "execution_count": null,
   "id": "afd1aba2",
   "metadata": {},
   "outputs": [],
   "source": []
  }
 ],
 "metadata": {
  "kernelspec": {
   "display_name": "Python [conda env:bhacks]",
   "language": "python",
   "name": "conda-env-bhacks-py"
  },
  "language_info": {
   "codemirror_mode": {
    "name": "ipython",
    "version": 3
   },
   "file_extension": ".py",
   "mimetype": "text/x-python",
   "name": "python",
   "nbconvert_exporter": "python",
   "pygments_lexer": "ipython3",
   "version": "3.8.13"
  }
 },
 "nbformat": 4,
 "nbformat_minor": 5
}
